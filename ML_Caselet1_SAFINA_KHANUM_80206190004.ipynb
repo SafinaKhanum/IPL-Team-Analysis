{
  "nbformat": 4,
  "nbformat_minor": 0,
  "metadata": {
    "colab": {
      "name": "ML_Caselet1_SAFINA_KHANUM_80206190004.ipynb",
      "provenance": []
    },
    "kernelspec": {
      "name": "python3",
      "display_name": "Python 3"
    }
  },
  "cells": [
    {
      "cell_type": "code",
      "metadata": {
        "id": "pohG__Kl7oJM"
      },
      "source": [
        ""
      ],
      "execution_count": null,
      "outputs": []
    },
    {
      "cell_type": "markdown",
      "metadata": {
        "id": "4-cEXQDg7pEK"
      },
      "source": [
        "# **Applied Machine Learning Assignment – 2**\r\n",
        "\r\n",
        "# **Proposing solutions to real world business problems** \r\n",
        "\r\n",
        "# **Name of Student: SAFINA KHANUM        SAP ID: 80206190004**\r\n",
        "\r\n",
        "# **Caselet 1 : IPL Team Analysis**\r\n",
        "\r\n",
        "# **Q1) State Business issue & how Machine Learning can help.**\r\n",
        " \r\n",
        "**Business issue:** Based on the performance statistics of 143 players (like the number of matches, number of 100’s, no of 4’s and 6’s etc) a player segmentation has to be done i.e; players have to be grouped based on the similarity of their performance such that an IPL team of batsmen and bowlers can be formed which the CEO can sponsor.\r\n",
        "\r\n",
        "There are 143 players out of which 11 (on field) + 4 (extras) = 15 member team has to be formed. These 15 players cannot be randomly chosen and have to be the best out of the lot so they perform well during the tournament, always stay at the top of the table and possibly win the tournament. A sponsor (the CEO) will benefit from this because he/she gets to advertise his/her product or service for free through these players. A label of the product/service that the CEO’s firm offers can be put on all the players’ jerseys which will enable the product/service to get noticed by millions of people watching these players play.\r\n",
        "\r\n",
        "Why is it important that the top players be chosen out of 143?\r\n",
        "\r\n",
        "•\tTop/good players have more fan following which means more number of people will watch them play (either on field or through media).\r\n",
        "•\tTop/good players drive the team to qualify for more number of matches and hence they will be seen on TV more.\r\n",
        "•\tWhen a team plays well, their performance is discussed and this word of mouth, encourages more number of people, especially cricket enthusiasts (whether they support that particular team or not) to watch this team play.\r\n",
        "\r\n",
        "All this simply helps the product/service get an advertising of a very large scale which ultimately helps in driving more sales.\r\n",
        "\r\n",
        "And if ‘sponsoring’ means buying/owning the team in the given caselet, then the CEO will benefit from forming a good team because a good team will have more number of businesses wanting to sponsor it and these businesses would pay the CEO to advertise themselves through these players.\r\n",
        "\r\n",
        "**How machine learning can help:** Unsupervised machine learning techniques such as clustering could be used to solve this problem. Clustering techniques will ensure that the players are segmented into groups based on some distance (similarity) measure and not randomly. This way players who are similar to one another by their performance statistics will be segmented into one group, then these groups could be studied separately and the best/top players out of each group could be picked based on the number and kind (batsman, bowler) of players required.\r\n",
        "\r\n",
        "#**Q2) Discuss your approach? Give specific steps?**\r\n",
        "\r\n",
        "As mentioned earlier this is an unsupervised machine learning problem since there is no ‘Y’ or label involved and the task is to form groups or segments.\r\n",
        "\r\n",
        "The steps involved in solving this problem by building an end to end machine learning pipe line are:\r\n",
        "\r\n",
        "1)\tThe data is available in a csv format and hence can be uploaded to any tool such as Python or R as it is. First I would begin by exploring the raw data set. This would involve:\r\n",
        "\r\n",
        "* Checking the dimension of the data set to see how many observations and variables are present. This data has 143 observations and 25 variables.\r\n",
        "* Understanding what each variable means and what kind of values (numeric, categorical) it holds under it.\r\n",
        "* Converting any variable to the right type if it was wrongly read by the tool being used. For eg: if a categorical column was read as ‘character’ I would convert it to factor say Avg.x from this data set which is a continuous variable but has been read as an ‘object’ variable.\r\n",
        "* Check for the column wise presence of missing values in the data set. If a column had more than 30% of missing values then I would discard it and if it had less than 30% of missing values I would impute them. For imputing missing values I would use knn imputation since it would be better than imputing the missing values by the mean of a column as the mean would be biased towards extreme values under the column. Knn imputation on the other hand would impute a value that is calculated based on the nearest neighbours and would be more apt. However there are no missing values in this data set.\r\n",
        "* I would check if there are any duplicates in the data set and ensure that no player’s information is listed twice. If so I will eliminate the duplicate values and retain only the unique observations by player name. However there are no duplicates in this data set.\r\n",
        "* I would compute the descriptive statistics for each variable. Mean, min, max etc for continuous variables and count, top most category etc for categorical variables.\r\n",
        "* \tThen I would visualize the data through different plots and tables such as pivot tables to understand and capture any patterns from the data set.   \r\n",
        "* \tThen proceed towards preparing the data set (feature engineering) and using it to build clusters as explained under the below two questions.         \r\n",
        "\r\n",
        "#**Q3) Discuss feature engineering for this case & explain steps.**\r\n",
        "\r\n",
        "As part of feature engineering I would,\r\n",
        "\r\n",
        "* Encode categorical variables to a numeric form so that it could be fed into a chosen algorithm at a later stage (say a predictive algorithm can be built after clustering) \r\n",
        "* Create a separate data frame and retain only the continuous variables while eliminating the categorical variables for clustering. Since clustering is based on distance, calculating distance for categorical variables does not make sense.\r\n",
        "* Use a z-score standardization so that all the continuous variables are brought down to the same scale.\r\n",
        "* Add another variable ‘age of player’ to the data set, the values for which would be available through a simple Google search.\r\n",
        "* Select the most important or significant variables from the means or centroids of each cluster across different variables (this step can be executed only after building the clusters as explained in the answer to the next question)\r\n",
        "\r\n",
        "#**Q4) What algorithm(s) do you recommend & why?**\r\n",
        "\r\n",
        "I would recommend non-hierarchical and hierarchical clustering algorithms since this is an unsupervised machine learning problem and the task is to group or segment the observations.\r\n",
        "As part of non-hierarchical clustering the k-means algorithm could be used and as part of hierarchical clustering the agglomerative (bottom up) and divisive (top down) approaches could be used.\r\n",
        "\r\n",
        "* First the number of clusters suitable for this data set would be identified using the wss (within sum of squares) or the silhouette method. Then based on the business requirement the appropriate number of clusters would be chosen. \r\n",
        "* The algorithm (kmeans , agglomerative or divisive) would be applied to segment the players\r\n",
        "* Once the clusters are obtained the within cluster sum of squares (WCSS) can be used as a measure to check how good these formed clusters are. Closer the WCSS value to 1 better the clusters. However WCSS cannot be used when the number of observations are different under each cluster which will usually be the case. Hence instead the mean of all the clusters across different variables could be computed and compared. When all these means/ cluster centroids are different from one another (say mean of cluster 1 for variable Mat.x is different from the mean of cluster 2 for variable Mat.x) then it can be said that each cluster is different from the other and hence the segmentation is meaningful. \r\n",
        "* Through Cluster means we also come to know which variables are important while forming the clusters. Variables which  having high mean difference between the clusters are good variables to formulate the clusters.\r\n",
        "* I would also use all the different available linkages like complete linkage, single linkage, ward linkage etc for clustering and choose that linkage which results in the highest WCSS or most different cluster means/centroids across different variables.\r\n",
        "* Since there is no specific measure (like accuracy in case of a supervised learning problem) to assess the model performance, concluding which of the above 3 algorithms/approaches are the best is not possible. Only methods that are mentioned in the above point can be used to see if the segmentation is meaningful or not or whether the clusters are good or not.\r\n",
        "* Once the final clusters are obtained, I would explore/analyse them separately using basic descriptive statistics, charts and tables to understand what kind of players each cluster has and give each cluster a suitable name accordingly. Say 2 clusters are formed and based on the kind of players in them, they can be named ‘Top scorers’ and ‘Consistent players’, from these two clusters the top most players can be selected and the team can be formed.\r\n"
      ]
    },
    {
      "cell_type": "code",
      "metadata": {
        "id": "__HaLBuf80qj"
      },
      "source": [
        ""
      ],
      "execution_count": null,
      "outputs": []
    }
  ]
}